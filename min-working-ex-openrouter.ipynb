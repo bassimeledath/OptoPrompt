{
 "cells": [
  {
   "cell_type": "code",
   "execution_count": 2,
   "metadata": {},
   "outputs": [],
   "source": [
    "import pandas as pd\n",
    "import dspy\n",
    "import pandas as pd\n",
    "from pydantic import BaseModel, Field\n",
    "from typing import Literal, Tuple\n",
    "from dspy.teleprompt import BootstrapFewShotWithRandomSearch\n",
    "import httpx\n",
    "import os"
   ]
  },
  {
   "cell_type": "code",
   "execution_count": 3,
   "metadata": {},
   "outputs": [],
   "source": [
    "class Input(BaseModel):\n",
    "    question: str = Field(description=\"The question to be answered\")\n",
    "    answer: str = Field(description=\"The answer to the question\")\n",
    "\n",
    "class Output(BaseModel):\n",
    "    rating: Literal[\"Excellent\", \"Bad\", \"Could be improved\", \"Acceptable\"] = Field(description=\"The LLM's rating of the answer\")\n",
    "    feedback: str = Field(description=\"Feedback explaining the rating\")\n",
    "\n",
    "class LLMJudgeSignature(dspy.Signature):\n",
    "    \"\"\" Rate the quality of the answer based on the question and provide feedback \"\"\"\n",
    "\n",
    "    input: Input = dspy.InputField()\n",
    "    output: Output = dspy.OutputField()"
   ]
  },
  {
   "cell_type": "code",
   "execution_count": 4,
   "metadata": {},
   "outputs": [],
   "source": [
    "import requests\n",
    "from dsp import LM\n",
    "from ratelimit import limits\n",
    "\n",
    "RL_CALLS=10_000\n",
    "RL_PERIOD_SECONDS=60\n",
    "\n",
    "class OpenRouterClient(LM):\n",
    "    def __init__(self, api_key=None, base_url=\"https://openrouter.ai/api/v1\", model=\"gpt-4o\", extra_headers=None, **kwargs):\n",
    "        self.api_key = api_key or os.getenv(\"OPENROUTER_API_KEY\")\n",
    "        self.base_url = base_url\n",
    "        self.model = model\n",
    "        self.extra_headers = extra_headers or {}\n",
    "        self.history = []\n",
    "        self.provider = \"openai\"\n",
    "        self.kwargs = {'temperature': 0.0,\n",
    "            'max_tokens': 1024,\n",
    "            'top_p': 1,\n",
    "            'frequency_penalty': 0,\n",
    "            'presence_penalty': 0,\n",
    "            'n': 1}\n",
    "        self.kwargs.update(kwargs)\n",
    "\n",
    "    def _get_choice_text(choice):\n",
    "        return choice[\"message\"][\"content\"]\n",
    "\n",
    "    def _get_headers(self):\n",
    "        headers = {\n",
    "            \"Authorization\": f\"Bearer {self.api_key}\",\n",
    "            \"Content-Type\": \"application/json\"\n",
    "        }\n",
    "        headers.update(self.extra_headers)\n",
    "        return headers\n",
    "\n",
    "    @limits(calls=RL_CALLS, period=RL_PERIOD_SECONDS)\n",
    "    def basic_request(self, prompt: str, **kwargs):\n",
    "        headers = self._get_headers()\n",
    "        data = {\n",
    "            \"model\": self.model,\n",
    "            \"messages\": [\n",
    "                {\"role\": \"user\", \"content\": prompt}\n",
    "            ],\n",
    "            **kwargs\n",
    "        }\n",
    "\n",
    "        response = requests.post(f\"{self.base_url}/chat/completions\", headers=headers, json=data)\n",
    "        response_data = response.json()\n",
    "        print(response_data)\n",
    "\n",
    "        self.history.append({\n",
    "            \"prompt\": prompt,\n",
    "            \"response\": response_data,\n",
    "            \"kwargs\": kwargs,\n",
    "        })\n",
    "\n",
    "        return response_data\n",
    "\n",
    "    def __call__(self, prompt, **kwargs):\n",
    "        req_kwargs = self.kwargs\n",
    "\n",
    "        if not kwargs:\n",
    "            req_kwargs.update(kwargs)\n",
    "\n",
    "        response_data = self.basic_request(prompt, **req_kwargs)\n",
    "        completions = [choice[\"message\"][\"content\"] for choice in response_data.get(\"choices\", [])]\n",
    "        return completions"
   ]
  },
  {
   "cell_type": "code",
   "execution_count": 6,
   "metadata": {},
   "outputs": [],
   "source": [
    "class LLMJudge:\n",
    "    def __init__(self, model='gpt-4o', trainset=None):\n",
    "        self.lm = OpenRouterClient(model=model)\n",
    "        dspy.settings.configure(lm=self.lm)\n",
    "        self.predictor = dspy.TypedPredictor(LLMJudgeSignature)\n",
    "        \n",
    "        if trainset:\n",
    "            print(\"reached here\")\n",
    "            self.optimize(trainset)\n",
    "\n",
    "    def rate_answer(self, question: str, answer: str) -> Tuple[str, str]:\n",
    "        input_data = Input(question=question, answer=answer)\n",
    "        prediction = self.predictor(input=input_data)\n",
    "        return prediction.output.rating, prediction.output.feedback\n",
    "\n",
    "    def optimize(self, trainset):\n",
    "        def metric(example, pred, trace=None):\n",
    "            return float(example.human_rating == pred.output.rating)\n",
    "\n",
    "        config = dict(\n",
    "            max_bootstrapped_demos=4,\n",
    "            max_labeled_demos=4,\n",
    "            num_candidate_programs=10,\n",
    "            num_threads=4\n",
    "        )\n",
    "\n",
    "        teleprompter = BootstrapFewShotWithRandomSearch(metric=metric, **config)\n",
    "        self.predictor = teleprompter.compile(self.predictor, trainset=trainset)"
   ]
  },
  {
   "cell_type": "code",
   "execution_count": 7,
   "metadata": {},
   "outputs": [],
   "source": [
    "import json\n",
    "comp_chem_data = json.load(open('questions_with_feedback-v1.json'))"
   ]
  },
  {
   "cell_type": "code",
   "execution_count": 8,
   "metadata": {},
   "outputs": [
    {
     "name": "stdout",
     "output_type": "stream",
     "text": [
      "reached here\n",
      "Going to sample between 1 and 4 traces per predictor.\n",
      "Will attempt to bootstrap 10 candidate sets.\n"
     ]
    },
    {
     "name": "stderr",
     "output_type": "stream",
     "text": [
      "Average Metric: 1.0 / 3  (33.3):  23%|██▎       | 3/13 [00:02<00:05,  1.84it/s]"
     ]
    },
    {
     "name": "stdout",
     "output_type": "stream",
     "text": [
      "{'id': 'gen-IRkOURTwxcpoqoDIoxgM3WCvyjzm', 'model': 'openai/gpt-4o', 'object': 'chat.completion', 'created': 1727026919, 'choices': [{'logprobs': None, 'finish_reason': 'stop', 'index': 0, 'message': {'role': 'assistant', 'content': '{\\n  \"rating\": \"Excellent\",\\n  \"feedback\": \"The answer provides a comprehensive and detailed explanation of when to apply implicit solvation models in DFT calculations. It covers various scenarios and reasons for using implicit solvation models, such as studying molecules in solution, simplifying computations, focusing on general solvent effects, and avoiding complexity. The answer also mentions the limitations of implicit solvation models and when explicit solvent molecules might be necessary. Overall, the response is well-structured, informative, and addresses the question thoroughly.\"\\n}', 'refusal': ''}}], 'system_fingerprint': 'fp_e375328146', 'usage': {'prompt_tokens': 552, 'completion_tokens': 105, 'total_tokens': 657}}\n",
      "{'id': 'gen-EUQooUcCzhmDg1Hfh4dT1shKkfU7', 'model': 'openai/gpt-4o', 'object': 'chat.completion', 'created': 1727026919, 'choices': [{'logprobs': None, 'finish_reason': 'stop', 'index': 0, 'message': {'role': 'assistant', 'content': '{\\n  \"rating\": \"Excellent\",\\n  \"feedback\": \"The answer is comprehensive and accurately addresses the fundamental aspect that determines the applicability of common Density Functional Theory (DFT) to a chemical system. It explains the importance of electron density, the conditions under which DFT works best, and the limitations of DFT in systems with strong electron correlation or dynamic electron behavior. The answer is well-structured and provides clear, relevant information that directly answers the question.\"\\n}', 'refusal': ''}}], 'system_fingerprint': 'fp_e375328146', 'usage': {'prompt_tokens': 452, 'completion_tokens': 94, 'total_tokens': 546}}\n",
      "{'id': 'gen-ArRjoYNEak0GJioT8coh4QKYmGNF', 'model': 'openai/gpt-4o', 'object': 'chat.completion', 'created': 1727026919, 'choices': [{'logprobs': None, 'finish_reason': 'stop', 'index': 0, 'message': {'role': 'assistant', 'content': '{\\n  \"rating\": \"Excellent\",\\n  \"feedback\": \"The answer provided is comprehensive, well-structured, and detailed. It thoroughly explains the concept of multireference character in chemical systems, including specific examples and situations where it is important. The answer also highlights the significance of using appropriate computational methods and offers actionable steps for non-experts. The use of clear headings and bullet points enhances readability and understanding. Overall, the response effectively addresses the question and provides valuable information.\"\\n}', 'refusal': ''}}], 'system_fingerprint': 'fp_e375328146', 'usage': {'prompt_tokens': 1002, 'completion_tokens': 97, 'total_tokens': 1099}}\n"
     ]
    },
    {
     "name": "stderr",
     "output_type": "stream",
     "text": [
      "Average Metric: 1.0 / 4  (25.0):  31%|███       | 4/13 [00:02<00:03,  2.37it/s]"
     ]
    },
    {
     "name": "stdout",
     "output_type": "stream",
     "text": [
      "{'id': 'gen-TfB5KkYGPWTlZaKkoQkd8z9wJgWj', 'model': 'openai/gpt-4o', 'object': 'chat.completion', 'created': 1727026920, 'choices': [{'logprobs': None, 'finish_reason': 'stop', 'index': 0, 'message': {'role': 'assistant', 'content': '{\\n  \"rating\": \"Excellent\",\\n  \"feedback\": \"The answer provides a comprehensive and detailed explanation of the factors to consider when determining the applicability of Density Functional Theory (DFT) to a chemical system. It covers various aspects such as system size, type of elements, nature of chemical bonds, electronic structure, spin states, and desired properties. Additionally, it offers actionable steps and a summary, making it a well-rounded and informative response. The structure is clear, and the information is relevant and accurate, making it an excellent answer to the question.\"\\n}', 'refusal': ''}}], 'system_fingerprint': 'fp_e375328146', 'usage': {'prompt_tokens': 995, 'completion_tokens': 113, 'total_tokens': 1108}}\n"
     ]
    },
    {
     "name": "stderr",
     "output_type": "stream",
     "text": [
      "Average Metric: 4.0 / 7  (57.1):  54%|█████▍    | 7/13 [00:03<00:02,  2.38it/s]"
     ]
    },
    {
     "name": "stdout",
     "output_type": "stream",
     "text": [
      "{'id': 'gen-iYOL2P3AKSBmgBxMLVByhl3NWGph', 'model': 'openai/gpt-4o', 'object': 'chat.completion', 'created': 1727026921, 'choices': [{'logprobs': None, 'finish_reason': 'stop', 'index': 0, 'message': {'role': 'assistant', 'content': '{\\n  \"rating\": \"Excellent\",\\n  \"feedback\": \"The answer provided is comprehensive and well-structured, covering a wide range of scenarios where explicit solvation is necessary. It clearly explains the importance of specific solvent-solute interactions, reaction mechanisms, local solvent structure, non-uniform environments, high precision requirements, and solvent-sensitive properties. The use of bullet points and subcategories makes the information easy to follow and understand. Overall, the answer is detailed and informative, making it an excellent response to the question.\"\\n}', 'refusal': ''}}], 'system_fingerprint': 'fp_e375328146', 'usage': {'prompt_tokens': 742, 'completion_tokens': 105, 'total_tokens': 847}}\n",
      "{'id': 'gen-5PUMVYE2Ct0AWhbafMISCzpYN7FL', 'model': 'openai/gpt-4o', 'object': 'chat.completion', 'created': 1727026921, 'choices': [{'logprobs': None, 'finish_reason': 'stop', 'index': 0, 'message': {'role': 'assistant', 'content': '{\\n  \"rating\": \"Excellent\",\\n  \"feedback\": \"The answer comprehensively addresses the question by explaining when molecular flexibility needs to be considered in a simulation. It provides clear examples and situations where flexibility is crucial, as well as when it might be less critical. The actionable steps offer practical advice on how to approach simulations with or without considering molecular flexibility. The answer is well-structured, detailed, and informative, making it an excellent response to the question.\"\\n}', 'refusal': ''}}], 'system_fingerprint': 'fp_e375328146', 'usage': {'prompt_tokens': 584, 'completion_tokens': 94, 'total_tokens': 678}}\n",
      "{'id': 'gen-Th4v3AAJTHSPSzkzZ5TsLBIG0lxl', 'model': 'openai/gpt-4o', 'object': 'chat.completion', 'created': 1727026921, 'choices': [{'logprobs': None, 'finish_reason': 'stop', 'index': 0, 'message': {'role': 'assistant', 'content': '{\\n  \"rating\": \"Excellent\",\\n  \"feedback\": \"The answer is comprehensive and well-structured. It not only confirms that care should be taken when using solvation models with charged molecules but also provides detailed reasons why this is important. Additionally, it offers practical advice on how to ensure accurate modeling, such as verifying the model\\'s applicability, considering explicit solvent models, checking for convergence issues, and consulting the literature. The inclusion of a summary helps to reinforce the key points. Overall, the answer is informative and addresses the question thoroughly.\"\\n}', 'refusal': ''}}], 'system_fingerprint': 'fp_e375328146', 'usage': {'prompt_tokens': 520, 'completion_tokens': 110, 'total_tokens': 630}}\n"
     ]
    },
    {
     "name": "stderr",
     "output_type": "stream",
     "text": [
      "Average Metric: 5.0 / 8  (62.5):  62%|██████▏   | 8/13 [00:03<00:01,  2.81it/s]"
     ]
    },
    {
     "name": "stdout",
     "output_type": "stream",
     "text": [
      "{'id': 'gen-gfC97dSbO4HTuzWo1kdF32mqE6FR', 'model': 'openai/gpt-4o', 'object': 'chat.completion', 'created': 1727026922, 'choices': [{'logprobs': None, 'finish_reason': 'stop', 'index': 0, 'message': {'role': 'assistant', 'content': '{\\n  \"rating\": \"Excellent\",\\n  \"feedback\": \"The answer is comprehensive and accurately addresses the question. It explains the concept of conformers in computational chemistry, provides the specific energy window (3 to 5 kcal/mol), and elaborates on the significance of this range in practical terms. The explanation is clear and informative, making it easy to understand why conformers within this energy range are considered significant.\"\\n}', 'refusal': ''}}], 'system_fingerprint': 'fp_e375328146', 'usage': {'prompt_tokens': 314, 'completion_tokens': 84, 'total_tokens': 398}}\n"
     ]
    },
    {
     "name": "stderr",
     "output_type": "stream",
     "text": [
      "\u001b[2m2024-09-22T17:42:03.959271Z\u001b[0m [\u001b[33m\u001b[1mwarning  \u001b[0m] \u001b[1mReceived SIGINT. Cancelling evaluation.\u001b[0m [\u001b[0m\u001b[1m\u001b[34mdspy.evaluate.evaluate\u001b[0m]\u001b[0m \u001b[36mfilename\u001b[0m=\u001b[35mevaluate.py\u001b[0m \u001b[36mlineno\u001b[0m=\u001b[35m108\u001b[0m\n"
     ]
    },
    {
     "name": "stdout",
     "output_type": "stream",
     "text": [
      "{'id': 'gen-C7C6uj8mMJ2zzMqcRMlNFNabPFA1', 'model': 'openai/gpt-4o', 'object': 'chat.completion', 'created': 1727026923, 'choices': [{'logprobs': None, 'finish_reason': 'stop', 'index': 0, 'message': {'role': 'assistant', 'content': '{\\n  \"rating\": \"Excellent\",\\n  \"feedback\": \"The answer is comprehensive and well-structured, covering various scenarios where a conformer search is important. It explains the concept clearly and provides specific examples, making it easy to understand why and when a conformer search should be conducted. The use of bullet points and bold text for key terms enhances readability and emphasis. Overall, the answer is detailed and informative, addressing the question effectively.\"\\n}', 'refusal': ''}}], 'system_fingerprint': 'fp_e375328146', 'usage': {'prompt_tokens': 578, 'completion_tokens': 90, 'total_tokens': 668}}\n",
      "{'id': 'gen-Q7kmx0W7sDWQStiLk6QsJQm6eTDe', 'model': 'openai/gpt-4o', 'object': 'chat.completion', 'created': 1727026923, 'choices': [{'logprobs': None, 'finish_reason': 'stop', 'index': 0, 'message': {'role': 'assistant', 'content': '{\\n  \"rating\": \"Excellent\",\\n  \"feedback\": \"The answer provides a comprehensive and detailed explanation of when to include a dispersion correction in a DFT calculation. It covers various scenarios where dispersion forces are significant, such as molecular complexes, non-covalent interactions, adsorption on surfaces, biological molecules, materials science, and phase stability. The answer also includes a summary and actionable tip, making it highly informative and practical. The structure is clear, and the information is accurate and relevant to the question.\"\\n}', 'refusal': ''}}], 'system_fingerprint': 'fp_e375328146', 'usage': {'prompt_tokens': 667, 'completion_tokens': 103, 'total_tokens': 770}}\n",
      "{'id': 'gen-A6y0KqWSUmYEPrmbHLFhY1v1TjSJ', 'model': 'openai/gpt-4o', 'object': 'chat.completion', 'created': 1727026923, 'choices': [{'logprobs': None, 'finish_reason': 'stop', 'index': 0, 'message': {'role': 'assistant', 'content': '{\\n  \"rating\": \"Excellent\",\\n  \"feedback\": \"The answer provides a comprehensive and detailed guide on how to choose a density functional for computational chemistry simulations using Density Functional Theory (DFT). It covers all essential aspects, including understanding the system, starting with common functionals, reviewing literature, considering accuracy versus computational cost, being aware of functional strengths and limitations, testing and validating, and seeking expert advice. The structure is clear, and the information is well-organized, making it easy for the reader to follow and apply the advice. Overall, the answer is thorough and well-explained.\"\\n}', 'refusal': ''}}], 'system_fingerprint': 'fp_e375328146', 'usage': {'prompt_tokens': 727, 'completion_tokens': 122, 'total_tokens': 849}}\n",
      "{'id': 'gen-3sisBW2JedHvf5qG0AratFmeOEji', 'model': 'openai/gpt-4o', 'object': 'chat.completion', 'created': 1727026923, 'choices': [{'logprobs': None, 'finish_reason': 'stop', 'index': 0, 'message': {'role': 'assistant', 'content': '{\\n  \"rating\": \"Excellent\",\\n  \"feedback\": \"The answer provides a comprehensive and detailed guide on how to choose a basis set for computational chemistry simulations. It covers all essential aspects, including understanding the purpose of the basis set, considering computational resources, and reviewing scientific literature. The step-by-step approach and the example action plan make the information practical and easy to follow. The inclusion of different types of basis sets and their specific uses adds depth to the explanation. Overall, the answer is well-structured, informative, and highly useful for someone looking to choose a basis set.\"\\n}', 'refusal': ''}}], 'system_fingerprint': 'fp_e375328146', 'usage': {'prompt_tokens': 799, 'completion_tokens': 118, 'total_tokens': 917}}\n"
     ]
    },
    {
     "ename": "KeyboardInterrupt",
     "evalue": "",
     "output_type": "error",
     "traceback": [
      "\u001b[0;31m---------------------------------------------------------------------------\u001b[0m",
      "\u001b[0;31mKeyboardInterrupt\u001b[0m                         Traceback (most recent call last)",
      "Cell \u001b[0;32mIn[8], line 13\u001b[0m\n\u001b[1;32m      3\u001b[0m feedback \u001b[38;5;241m=\u001b[39m [q[\u001b[38;5;124m'\u001b[39m\u001b[38;5;124mrating\u001b[39m\u001b[38;5;124m'\u001b[39m] \u001b[38;5;28;01mfor\u001b[39;00m q \u001b[38;5;129;01min\u001b[39;00m comp_chem_data]\n\u001b[1;32m      5\u001b[0m trainset \u001b[38;5;241m=\u001b[39m [\n\u001b[1;32m      6\u001b[0m     dspy\u001b[38;5;241m.\u001b[39mExample(\n\u001b[1;32m      7\u001b[0m         \u001b[38;5;28minput\u001b[39m\u001b[38;5;241m=\u001b[39mInput(question\u001b[38;5;241m=\u001b[39mquestion, answer\u001b[38;5;241m=\u001b[39manswer),\n\u001b[0;32m   (...)\u001b[0m\n\u001b[1;32m     10\u001b[0m     \u001b[38;5;28;01mfor\u001b[39;00m question, answer, feedback \u001b[38;5;129;01min\u001b[39;00m \u001b[38;5;28mzip\u001b[39m(questions, answers, feedback)\n\u001b[1;32m     11\u001b[0m ]\n\u001b[0;32m---> 13\u001b[0m llm_judge \u001b[38;5;241m=\u001b[39m \u001b[43mLLMJudge\u001b[49m\u001b[43m(\u001b[49m\u001b[43mtrainset\u001b[49m\u001b[38;5;241;43m=\u001b[39;49m\u001b[43mtrainset\u001b[49m\u001b[43m)\u001b[49m\n",
      "Cell \u001b[0;32mIn[6], line 9\u001b[0m, in \u001b[0;36mLLMJudge.__init__\u001b[0;34m(self, model, trainset)\u001b[0m\n\u001b[1;32m      7\u001b[0m \u001b[38;5;28;01mif\u001b[39;00m trainset:\n\u001b[1;32m      8\u001b[0m     \u001b[38;5;28mprint\u001b[39m(\u001b[38;5;124m\"\u001b[39m\u001b[38;5;124mreached here\u001b[39m\u001b[38;5;124m\"\u001b[39m)\n\u001b[0;32m----> 9\u001b[0m     \u001b[38;5;28;43mself\u001b[39;49m\u001b[38;5;241;43m.\u001b[39;49m\u001b[43moptimize\u001b[49m\u001b[43m(\u001b[49m\u001b[43mtrainset\u001b[49m\u001b[43m)\u001b[49m\n",
      "Cell \u001b[0;32mIn[6], line 28\u001b[0m, in \u001b[0;36mLLMJudge.optimize\u001b[0;34m(self, trainset)\u001b[0m\n\u001b[1;32m     20\u001b[0m config \u001b[38;5;241m=\u001b[39m \u001b[38;5;28mdict\u001b[39m(\n\u001b[1;32m     21\u001b[0m     max_bootstrapped_demos\u001b[38;5;241m=\u001b[39m\u001b[38;5;241m4\u001b[39m,\n\u001b[1;32m     22\u001b[0m     max_labeled_demos\u001b[38;5;241m=\u001b[39m\u001b[38;5;241m4\u001b[39m,\n\u001b[1;32m     23\u001b[0m     num_candidate_programs\u001b[38;5;241m=\u001b[39m\u001b[38;5;241m10\u001b[39m,\n\u001b[1;32m     24\u001b[0m     num_threads\u001b[38;5;241m=\u001b[39m\u001b[38;5;241m4\u001b[39m\n\u001b[1;32m     25\u001b[0m )\n\u001b[1;32m     27\u001b[0m teleprompter \u001b[38;5;241m=\u001b[39m BootstrapFewShotWithRandomSearch(metric\u001b[38;5;241m=\u001b[39mmetric, \u001b[38;5;241m*\u001b[39m\u001b[38;5;241m*\u001b[39mconfig)\n\u001b[0;32m---> 28\u001b[0m \u001b[38;5;28mself\u001b[39m\u001b[38;5;241m.\u001b[39mpredictor \u001b[38;5;241m=\u001b[39m \u001b[43mteleprompter\u001b[49m\u001b[38;5;241;43m.\u001b[39;49m\u001b[43mcompile\u001b[49m\u001b[43m(\u001b[49m\u001b[38;5;28;43mself\u001b[39;49m\u001b[38;5;241;43m.\u001b[39;49m\u001b[43mpredictor\u001b[49m\u001b[43m,\u001b[49m\u001b[43m \u001b[49m\u001b[43mtrainset\u001b[49m\u001b[38;5;241;43m=\u001b[39;49m\u001b[43mtrainset\u001b[49m\u001b[43m)\u001b[49m\n",
      "File \u001b[0;32m~/software/OptoPrompt/.venv/lib/python3.11/site-packages/dspy/teleprompt/random_search.py:123\u001b[0m, in \u001b[0;36mBootstrapFewShotWithRandomSearch.compile\u001b[0;34m(self, student, teacher, trainset, valset, restrict, labeled_sample)\u001b[0m\n\u001b[1;32m    112\u001b[0m     program2 \u001b[38;5;241m=\u001b[39m teleprompter\u001b[38;5;241m.\u001b[39mcompile(student, teacher\u001b[38;5;241m=\u001b[39mteacher, trainset\u001b[38;5;241m=\u001b[39mtrainset2)\n\u001b[1;32m    114\u001b[0m evaluate \u001b[38;5;241m=\u001b[39m Evaluate(\n\u001b[1;32m    115\u001b[0m     devset\u001b[38;5;241m=\u001b[39m\u001b[38;5;28mself\u001b[39m\u001b[38;5;241m.\u001b[39mvalset,\n\u001b[1;32m    116\u001b[0m     metric\u001b[38;5;241m=\u001b[39m\u001b[38;5;28mself\u001b[39m\u001b[38;5;241m.\u001b[39mmetric,\n\u001b[0;32m   (...)\u001b[0m\n\u001b[1;32m    120\u001b[0m     display_progress\u001b[38;5;241m=\u001b[39m\u001b[38;5;28;01mTrue\u001b[39;00m,\n\u001b[1;32m    121\u001b[0m )\n\u001b[0;32m--> 123\u001b[0m score, subscores \u001b[38;5;241m=\u001b[39m \u001b[43mevaluate\u001b[49m\u001b[43m(\u001b[49m\u001b[43mprogram2\u001b[49m\u001b[43m,\u001b[49m\u001b[43m \u001b[49m\u001b[43mreturn_all_scores\u001b[49m\u001b[38;5;241;43m=\u001b[39;49m\u001b[38;5;28;43;01mTrue\u001b[39;49;00m\u001b[43m)\u001b[49m\n\u001b[1;32m    125\u001b[0m all_subscores\u001b[38;5;241m.\u001b[39mappend(subscores)\n\u001b[1;32m    127\u001b[0m \u001b[38;5;66;03m############ Assertion-aware Optimization ############\u001b[39;00m\n",
      "File \u001b[0;32m~/software/OptoPrompt/.venv/lib/python3.11/site-packages/dspy/evaluate/evaluate.py:211\u001b[0m, in \u001b[0;36mEvaluate.__call__\u001b[0;34m(self, program, metric, devset, num_threads, display_progress, display_table, return_all_scores, return_outputs)\u001b[0m\n\u001b[1;32m    209\u001b[0m     reordered_devset, ncorrect, ntotal \u001b[38;5;241m=\u001b[39m \u001b[38;5;28mself\u001b[39m\u001b[38;5;241m.\u001b[39m_execute_single_thread(wrapped_program, devset, display_progress)\n\u001b[1;32m    210\u001b[0m \u001b[38;5;28;01melse\u001b[39;00m:\n\u001b[0;32m--> 211\u001b[0m     reordered_devset, ncorrect, ntotal \u001b[38;5;241m=\u001b[39m \u001b[38;5;28;43mself\u001b[39;49m\u001b[38;5;241;43m.\u001b[39;49m\u001b[43m_execute_multi_thread\u001b[49m\u001b[43m(\u001b[49m\n\u001b[1;32m    212\u001b[0m \u001b[43m        \u001b[49m\u001b[43mwrapped_program\u001b[49m\u001b[43m,\u001b[49m\n\u001b[1;32m    213\u001b[0m \u001b[43m        \u001b[49m\u001b[43mdevset\u001b[49m\u001b[43m,\u001b[49m\n\u001b[1;32m    214\u001b[0m \u001b[43m        \u001b[49m\u001b[43mnum_threads\u001b[49m\u001b[43m,\u001b[49m\n\u001b[1;32m    215\u001b[0m \u001b[43m        \u001b[49m\u001b[43mdisplay_progress\u001b[49m\u001b[43m,\u001b[49m\n\u001b[1;32m    216\u001b[0m \u001b[43m    \u001b[49m\u001b[43m)\u001b[49m\n\u001b[1;32m    218\u001b[0m dspy\u001b[38;5;241m.\u001b[39mlogger\u001b[38;5;241m.\u001b[39minfo(\u001b[38;5;124mf\u001b[39m\u001b[38;5;124m\"\u001b[39m\u001b[38;5;124mAverage Metric: \u001b[39m\u001b[38;5;132;01m{\u001b[39;00mncorrect\u001b[38;5;132;01m}\u001b[39;00m\u001b[38;5;124m / \u001b[39m\u001b[38;5;132;01m{\u001b[39;00mntotal\u001b[38;5;132;01m}\u001b[39;00m\u001b[38;5;124m (\u001b[39m\u001b[38;5;132;01m{\u001b[39;00m\u001b[38;5;28mround\u001b[39m(\u001b[38;5;241m100\u001b[39m\u001b[38;5;250m \u001b[39m\u001b[38;5;241m*\u001b[39m\u001b[38;5;250m \u001b[39mncorrect\u001b[38;5;250m \u001b[39m\u001b[38;5;241m/\u001b[39m\u001b[38;5;250m \u001b[39mntotal,\u001b[38;5;250m \u001b[39m\u001b[38;5;241m1\u001b[39m)\u001b[38;5;132;01m}\u001b[39;00m\u001b[38;5;124m%)\u001b[39m\u001b[38;5;124m\"\u001b[39m)\n\u001b[1;32m    220\u001b[0m predicted_devset \u001b[38;5;241m=\u001b[39m \u001b[38;5;28msorted\u001b[39m(reordered_devset)\n",
      "File \u001b[0;32m~/software/OptoPrompt/.venv/lib/python3.11/site-packages/dspy/evaluate/evaluate.py:126\u001b[0m, in \u001b[0;36mEvaluate._execute_multi_thread\u001b[0;34m(self, wrapped_program, devset, num_threads, display_progress)\u001b[0m\n\u001b[1;32m    123\u001b[0m futures \u001b[38;5;241m=\u001b[39m {executor\u001b[38;5;241m.\u001b[39msubmit(cancellable_wrapped_program, idx, arg) \u001b[38;5;28;01mfor\u001b[39;00m idx, arg \u001b[38;5;129;01min\u001b[39;00m devset}\n\u001b[1;32m    124\u001b[0m pbar \u001b[38;5;241m=\u001b[39m tqdm\u001b[38;5;241m.\u001b[39mtqdm(total\u001b[38;5;241m=\u001b[39m\u001b[38;5;28mlen\u001b[39m(devset), dynamic_ncols\u001b[38;5;241m=\u001b[39m\u001b[38;5;28;01mTrue\u001b[39;00m, disable\u001b[38;5;241m=\u001b[39m\u001b[38;5;129;01mnot\u001b[39;00m display_progress)\n\u001b[0;32m--> 126\u001b[0m \u001b[43m\u001b[49m\u001b[38;5;28;43;01mfor\u001b[39;49;00m\u001b[43m \u001b[49m\u001b[43mfuture\u001b[49m\u001b[43m \u001b[49m\u001b[38;5;129;43;01min\u001b[39;49;00m\u001b[43m \u001b[49m\u001b[43mas_completed\u001b[49m\u001b[43m(\u001b[49m\u001b[43mfutures\u001b[49m\u001b[43m)\u001b[49m\u001b[43m:\u001b[49m\n\u001b[1;32m    127\u001b[0m \u001b[43m    \u001b[49m\u001b[43mexample_idx\u001b[49m\u001b[43m,\u001b[49m\u001b[43m \u001b[49m\u001b[43mexample\u001b[49m\u001b[43m,\u001b[49m\u001b[43m \u001b[49m\u001b[43mprediction\u001b[49m\u001b[43m,\u001b[49m\u001b[43m \u001b[49m\u001b[43mscore\u001b[49m\u001b[43m \u001b[49m\u001b[38;5;241;43m=\u001b[39;49m\u001b[43m \u001b[49m\u001b[43mfuture\u001b[49m\u001b[38;5;241;43m.\u001b[39;49m\u001b[43mresult\u001b[49m\u001b[43m(\u001b[49m\u001b[43m)\u001b[49m\n\u001b[1;32m    129\u001b[0m \u001b[43m    \u001b[49m\u001b[38;5;66;43;03m# use the cancelled_job literal to check if the job was cancelled - use \"is\" not \"==\"\u001b[39;49;00m\n\u001b[1;32m    130\u001b[0m \u001b[43m    \u001b[49m\u001b[38;5;66;43;03m# in case the prediction is \"cancelled\" for some reason.\u001b[39;49;00m\n",
      "File \u001b[0;32m~/.local/share/uv/python/cpython-3.11.6-macos-aarch64-none/lib/python3.11/concurrent/futures/_base.py:243\u001b[0m, in \u001b[0;36mas_completed\u001b[0;34m(fs, timeout)\u001b[0m\n\u001b[1;32m    238\u001b[0m     \u001b[38;5;28;01mif\u001b[39;00m wait_timeout \u001b[38;5;241m<\u001b[39m \u001b[38;5;241m0\u001b[39m:\n\u001b[1;32m    239\u001b[0m         \u001b[38;5;28;01mraise\u001b[39;00m \u001b[38;5;167;01mTimeoutError\u001b[39;00m(\n\u001b[1;32m    240\u001b[0m                 \u001b[38;5;124m'\u001b[39m\u001b[38;5;132;01m%d\u001b[39;00m\u001b[38;5;124m (of \u001b[39m\u001b[38;5;132;01m%d\u001b[39;00m\u001b[38;5;124m) futures unfinished\u001b[39m\u001b[38;5;124m'\u001b[39m \u001b[38;5;241m%\u001b[39m (\n\u001b[1;32m    241\u001b[0m                 \u001b[38;5;28mlen\u001b[39m(pending), total_futures))\n\u001b[0;32m--> 243\u001b[0m \u001b[43mwaiter\u001b[49m\u001b[38;5;241;43m.\u001b[39;49m\u001b[43mevent\u001b[49m\u001b[38;5;241;43m.\u001b[39;49m\u001b[43mwait\u001b[49m\u001b[43m(\u001b[49m\u001b[43mwait_timeout\u001b[49m\u001b[43m)\u001b[49m\n\u001b[1;32m    245\u001b[0m \u001b[38;5;28;01mwith\u001b[39;00m waiter\u001b[38;5;241m.\u001b[39mlock:\n\u001b[1;32m    246\u001b[0m     finished \u001b[38;5;241m=\u001b[39m waiter\u001b[38;5;241m.\u001b[39mfinished_futures\n",
      "File \u001b[0;32m~/.local/share/uv/python/cpython-3.11.6-macos-aarch64-none/lib/python3.11/threading.py:629\u001b[0m, in \u001b[0;36mEvent.wait\u001b[0;34m(self, timeout)\u001b[0m\n\u001b[1;32m    627\u001b[0m signaled \u001b[38;5;241m=\u001b[39m \u001b[38;5;28mself\u001b[39m\u001b[38;5;241m.\u001b[39m_flag\n\u001b[1;32m    628\u001b[0m \u001b[38;5;28;01mif\u001b[39;00m \u001b[38;5;129;01mnot\u001b[39;00m signaled:\n\u001b[0;32m--> 629\u001b[0m     signaled \u001b[38;5;241m=\u001b[39m \u001b[38;5;28;43mself\u001b[39;49m\u001b[38;5;241;43m.\u001b[39;49m\u001b[43m_cond\u001b[49m\u001b[38;5;241;43m.\u001b[39;49m\u001b[43mwait\u001b[49m\u001b[43m(\u001b[49m\u001b[43mtimeout\u001b[49m\u001b[43m)\u001b[49m\n\u001b[1;32m    630\u001b[0m \u001b[38;5;28;01mreturn\u001b[39;00m signaled\n",
      "File \u001b[0;32m~/.local/share/uv/python/cpython-3.11.6-macos-aarch64-none/lib/python3.11/threading.py:327\u001b[0m, in \u001b[0;36mCondition.wait\u001b[0;34m(self, timeout)\u001b[0m\n\u001b[1;32m    325\u001b[0m \u001b[38;5;28;01mtry\u001b[39;00m:    \u001b[38;5;66;03m# restore state no matter what (e.g., KeyboardInterrupt)\u001b[39;00m\n\u001b[1;32m    326\u001b[0m     \u001b[38;5;28;01mif\u001b[39;00m timeout \u001b[38;5;129;01mis\u001b[39;00m \u001b[38;5;28;01mNone\u001b[39;00m:\n\u001b[0;32m--> 327\u001b[0m         \u001b[43mwaiter\u001b[49m\u001b[38;5;241;43m.\u001b[39;49m\u001b[43macquire\u001b[49m\u001b[43m(\u001b[49m\u001b[43m)\u001b[49m\n\u001b[1;32m    328\u001b[0m         gotit \u001b[38;5;241m=\u001b[39m \u001b[38;5;28;01mTrue\u001b[39;00m\n\u001b[1;32m    329\u001b[0m     \u001b[38;5;28;01melse\u001b[39;00m:\n",
      "File \u001b[0;32m~/software/OptoPrompt/.venv/lib/python3.11/site-packages/dspy/evaluate/evaluate.py:109\u001b[0m, in \u001b[0;36mEvaluate._execute_multi_thread.<locals>.interrupt_handler_manager.<locals>.interrupt_handler\u001b[0;34m(sig, frame)\u001b[0m\n\u001b[1;32m    107\u001b[0m \u001b[38;5;28mself\u001b[39m\u001b[38;5;241m.\u001b[39mcancel_jobs\u001b[38;5;241m.\u001b[39mset()\n\u001b[1;32m    108\u001b[0m dspy\u001b[38;5;241m.\u001b[39mlogger\u001b[38;5;241m.\u001b[39mwarning(\u001b[38;5;124m\"\u001b[39m\u001b[38;5;124mReceived SIGINT. Cancelling evaluation.\u001b[39m\u001b[38;5;124m\"\u001b[39m)\n\u001b[0;32m--> 109\u001b[0m \u001b[43mdefault_handler\u001b[49m\u001b[43m(\u001b[49m\u001b[43msig\u001b[49m\u001b[43m,\u001b[49m\u001b[43m \u001b[49m\u001b[43mframe\u001b[49m\u001b[43m)\u001b[49m\n",
      "\u001b[0;31mKeyboardInterrupt\u001b[0m: "
     ]
    }
   ],
   "source": [
    "questions = [q['question'] for q in comp_chem_data]\n",
    "answers = [q['llm_feedback'] for q in comp_chem_data]\n",
    "feedback = [q['rating'] for q in comp_chem_data]\n",
    "\n",
    "trainset = [\n",
    "    dspy.Example(\n",
    "        input=Input(question=question, answer=answer),\n",
    "        human_rating=feedback\n",
    "    ).with_inputs('input')\n",
    "    for question, answer, feedback in zip(questions, answers, feedback)\n",
    "]\n",
    "\n",
    "llm_judge = LLMJudge(trainset=trainset)"
   ]
  },
  {
   "cell_type": "code",
   "execution_count": null,
   "metadata": {},
   "outputs": [],
   "source": []
  }
 ],
 "metadata": {
  "kernelspec": {
   "display_name": ".venv",
   "language": "python",
   "name": "python3"
  },
  "language_info": {
   "codemirror_mode": {
    "name": "ipython",
    "version": 3
   },
   "file_extension": ".py",
   "mimetype": "text/x-python",
   "name": "python",
   "nbconvert_exporter": "python",
   "pygments_lexer": "ipython3",
   "version": "3.11.6"
  }
 },
 "nbformat": 4,
 "nbformat_minor": 2
}
